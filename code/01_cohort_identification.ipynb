{
 "cells": [
  {
   "cell_type": "code",
   "execution_count": null,
   "id": "a903b2e5",
   "metadata": {},
   "outputs": [],
   "source": [
    "import pandas as pd\n",
    "import numpy as np\n",
    "from clifpy import ClifOrchestrator\n",
    "import sys\n",
    "import os"
   ]
  },
  {
   "cell_type": "markdown",
   "id": "5aa04bae",
   "metadata": {},
   "source": [
    "# Setup output path"
   ]
  },
  {
   "cell_type": "code",
   "execution_count": null,
   "id": "25a353d1",
   "metadata": {},
   "outputs": [],
   "source": [
    "# output\n",
    "output_folder = \"../output\"\n",
    "os.makedirs(output_folder, exist_ok=True)\n",
    "os.makedirs(f'{output_folder}/final', exist_ok=True)\n",
    "os.makedirs(f'{output_folder}/final/graphs', exist_ok=True)\n",
    "\n",
    "# Intermediate tables\n",
    "intermediate_path = \"../private_tables\"\n",
    "os.makedirs(intermediate_path, exist_ok=True)"
   ]
  },
  {
   "cell_type": "markdown",
   "id": "6f3c802c",
   "metadata": {},
   "source": [
    "# Initialization"
   ]
  },
  {
   "cell_type": "code",
   "execution_count": null,
   "id": "c8c86285",
   "metadata": {},
   "outputs": [],
   "source": [
    "co = ClifOrchestrator(config_path=\"../config/config.yaml\")"
   ]
  },
  {
   "cell_type": "markdown",
   "id": "6fa12cd8",
   "metadata": {},
   "source": [
    "# Load Data"
   ]
  },
  {
   "cell_type": "markdown",
   "id": "64ac1f2b",
   "metadata": {},
   "source": [
    "## Required variables"
   ]
  },
  {
   "cell_type": "markdown",
   "id": "5f63e403",
   "metadata": {},
   "source": [
    "- hospitalization: age_at_admission\n",
    "- labs: pco2_arterial, ph_arterial, po2_arterial, wbc, lymphocytes_absolute, neutrophils_absolute, hemoglobin, platelet_count,\n",
    "    albumin, bicarbonate, creatinine, bilirubin_total, ferritin, lactate, ldh, procalcitonin, crp\n",
    "- vitals: temp_c, heart_rate, map, respiratory_rate, spo2\n",
    "- respiratory_support: peep_set, fio2_set, plateau_pressure_obs\n",
    "- medication_admin_continous: norepinephrine\n",
    "- patient_assessments: gcs_eye, gcs_motor, RASS\n",
    "- crrt_therapy: crrt_flag\n",
    "- ecmo_mcs: ecmo_flag"
   ]
  },
  {
   "cell_type": "code",
   "execution_count": null,
   "id": "f4fbc650",
   "metadata": {},
   "outputs": [],
   "source": [
    "# defined required columns and filters for each table\n",
    "table_requirements = {\n",
    "    'hospitalization': {\n",
    "        'columns': ['hospitalization_id', 'patient_id', 'admission_dttm', 'discharge_dttm', 'age_at_admission', \n",
    "                      'admission_type_category', 'discharge_category'],\n",
    "        'filters': {}\n",
    "    },\n",
    "    'patient': {\n",
    "        'columns': ['patient_id', 'race_category', 'ethnicity_category', 'sex_category', 'death_dttm'],\n",
    "        'filters': {}\n",
    "    },\n",
    "    'adt': {\n",
    "        'columns': ['hospitalization_id', 'hospital_id', 'in_dttm', 'out_dttm', 'location_category', 'location_type'],\n",
    "        'filters': {}\n",
    "    },\n",
    "    'labs': {\n",
    "        'columns': ['hospitalization_id', 'lab_result_dttm', 'lab_value_numeric', 'lab_category'],\n",
    "        'filters': {'lab_category': ['co2_arterial', 'ph_arterial', 'po2_arterial', 'wbc', \n",
    "                                          'lymphocytes_absolute', 'neutrophils_absolute', 'hemoglobin', \n",
    "                                          'platelet_count', 'albumin', 'bicarbonate', 'creatinine', 'bilirubin_total', \n",
    "                                          'ferritin', 'lactate', 'ldh', 'procalcitonin', 'crp']\n",
    "                                          }\n",
    "    },\n",
    "    'vitals': {\n",
    "        'columns': ['hospitalization_id', 'recorded_dttm', 'vital_value', 'vital_category'],\n",
    "        'filters': {'vital_category': ['temp_c', 'heart_rate', 'sbp', 'spo2', 'respiratory_rate']}\n",
    "    },\n",
    "    'respiratory_support': {\n",
    "        'columns': ['hospitalization_id', 'recorded_dttm', 'device_category', 'mode_category', 'tracheostomy', 'peep_set', 'fio2_set', 'plateau_pressure_obs'],\n",
    "        'filters': {}\n",
    "    },\n",
    "    'medication_admin_continuous': {\n",
    "        'columns': ['hospitalization_id', 'admin_dttm', 'med_category', 'med_route_category', 'med_dose', 'med_dose_unit'],\n",
    "        'filters': {'med_category': ['norepinephrine']}\n",
    "    },\n",
    "    'patient_assessments': {\n",
    "        'columns': ['hospitalization_id', 'recorded_dttm', 'assessment_category', 'numerical_value'],\n",
    "        'filters': {'assessment_category': ['gcs_eye', 'gcs_motor', 'RASS']}\n",
    "    },\n",
    "    'crrt_therapy': {\n",
    "        'columns': ['hospitalization_id', 'recorded_dttm'],\n",
    "        'filters': {}\n",
    "    },\n",
    "    # 'ecmo_mcs': {\n",
    "    #     'columns': ['hospitalization_id', 'recorded_dttm'],\n",
    "    #     'filters': {}\n",
    "    # }\n",
    "\n",
    "}"
   ]
  },
  {
   "cell_type": "code",
   "execution_count": null,
   "id": "3a0bfd93",
   "metadata": {},
   "outputs": [],
   "source": [
    "co.initialize(\n",
    "    tables=table_requirements.keys(),\n",
    "    columns={t: c['columns'] for t, c in table_requirements.items()},\n",
    "    filters={t: c['filters'] for t, c in table_requirements.items()}\n",
    ")"
   ]
  },
  {
   "cell_type": "markdown",
   "id": "6607c3b1",
   "metadata": {},
   "source": [
    "# Cohort Identification Criteria:\n",
    "1. Age >= 18\n",
    "2. Paitnet admitted to ICU between 2018-01-01 and 2024-12-31\n",
    "3. Have mechanical ventilation > 48 hours during ICU stay \n",
    "4. "
   ]
  },
  {
   "cell_type": "markdown",
   "id": "3d8ffa0c",
   "metadata": {},
   "source": [
    "# Data Preparation Workflow:\n",
    "1. Aggregate daily average measurements and pivot to create one row per ICU-day\n",
    "2. VAP start dttm: \n",
    "3. ecmo_flag: any ecmo recorded dttm in a icu-day then mark as 1\n",
    "4. crrt_flag: any crrt recorded dttm in a icu-day then mark as 1"
   ]
  },
  {
   "cell_type": "code",
   "execution_count": null,
   "id": "6f62e9e8",
   "metadata": {},
   "outputs": [],
   "source": []
  }
 ],
 "metadata": {
  "kernelspec": {
   "display_name": ".vap-onset",
   "language": "python",
   "name": "python3"
  },
  "language_info": {
   "codemirror_mode": {
    "name": "ipython",
    "version": 3
   },
   "file_extension": ".py",
   "mimetype": "text/x-python",
   "name": "python",
   "nbconvert_exporter": "python",
   "pygments_lexer": "ipython3",
   "version": "3.9.6"
  }
 },
 "nbformat": 4,
 "nbformat_minor": 5
}
