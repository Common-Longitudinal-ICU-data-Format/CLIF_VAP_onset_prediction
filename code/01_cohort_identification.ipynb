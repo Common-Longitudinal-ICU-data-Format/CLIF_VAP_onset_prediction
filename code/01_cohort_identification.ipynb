{
 "cells": [
  {
   "cell_type": "code",
   "execution_count": null,
   "id": "a903b2e5",
   "metadata": {},
   "outputs": [],
   "source": [
    "import pandas as pd\n",
    "import numpy as np\n",
    "from clifpy import ClifOrchestrator\n",
    "from clifpy.utils import apply_outlier_handling\n",
    "import sys\n",
    "import os\n",
    "\n",
    "sys.path.append('../src')\n",
    "from icu_stitching import stitch_icu_stays\n",
    "from helper import find_intubation_times"
   ]
  },
  {
   "cell_type": "markdown",
   "id": "5aa04bae",
   "metadata": {},
   "source": [
    "# Setup output path"
   ]
  },
  {
   "cell_type": "code",
   "execution_count": null,
   "id": "25a353d1",
   "metadata": {},
   "outputs": [],
   "source": [
    "# output\n",
    "output_folder = \"../output\"\n",
    "os.makedirs(output_folder, exist_ok=True)\n",
    "os.makedirs(f'{output_folder}/final', exist_ok=True)\n",
    "os.makedirs(f'{output_folder}/final/graphs', exist_ok=True)\n",
    "\n",
    "# Intermediate tables\n",
    "intermediate_path = \"../private_tables\"\n",
    "os.makedirs(intermediate_path, exist_ok=True)"
   ]
  },
  {
   "cell_type": "markdown",
   "id": "6f3c802c",
   "metadata": {},
   "source": [
    "# Initialization"
   ]
  },
  {
   "cell_type": "code",
   "execution_count": null,
   "id": "c8c86285",
   "metadata": {},
   "outputs": [],
   "source": [
    "co = ClifOrchestrator(\n",
    "        config_path=\"../config/config.yaml\",\n",
    "        stitch_encounter=True,\n",
    "        stitch_time_interval=6\n",
    "    )"
   ]
  },
  {
   "cell_type": "markdown",
   "id": "6fa12cd8",
   "metadata": {},
   "source": [
    "# Load Data"
   ]
  },
  {
   "cell_type": "markdown",
   "id": "64ac1f2b",
   "metadata": {},
   "source": [
    "## Required variables"
   ]
  },
  {
   "cell_type": "markdown",
   "id": "5f63e403",
   "metadata": {},
   "source": [
    "- hospitalization: age_at_admission\n",
    "- labs: pco2_arterial, ph_arterial, po2_arterial, wbc, lymphocytes_absolute, neutrophils_absolute, hemoglobin, platelet_count,\n",
    "    albumin, bicarbonate, creatinine, bilirubin_total, ferritin, lactate, ldh, procalcitonin, crp\n",
    "- vitals: temp_c, heart_rate, map, respiratory_rate, spo2\n",
    "- respiratory_support: peep_set, fio2_set, plateau_pressure_obs\n",
    "- medication_admin_continous: norepinephrine\n",
    "- patient_assessments: gcs_eye, gcs_motor, RASS\n",
    "- crrt_therapy: crrt_flag\n",
    "- ecmo_mcs: ecmo_flag"
   ]
  },
  {
   "cell_type": "code",
   "execution_count": null,
   "id": "f4fbc650",
   "metadata": {},
   "outputs": [],
   "source": [
    "# defined required columns and filters for each table\n",
    "table_requirements = {\n",
    "    'hospitalization': {\n",
    "        'columns': ['hospitalization_id', 'patient_id', 'admission_dttm', 'discharge_dttm', 'age_at_admission', \n",
    "                      'admission_type_category', 'discharge_category'],\n",
    "        'filters': {}\n",
    "    },\n",
    "    'patient': {\n",
    "        'columns': ['patient_id', 'race_category', 'ethnicity_category', 'sex_category', 'death_dttm'],\n",
    "        'filters': {}\n",
    "    },\n",
    "    'adt': {\n",
    "        'columns': ['hospitalization_id', 'hospital_id', 'in_dttm', 'out_dttm', 'location_category', 'location_type'],\n",
    "        'filters': {}\n",
    "    },\n",
    "    'labs': {\n",
    "        'columns': ['hospitalization_id', 'lab_result_dttm', 'lab_value_numeric', 'lab_category'],\n",
    "        'filters': {'lab_category': ['co2_arterial', 'ph_arterial', 'po2_arterial', 'wbc', \n",
    "                                          'lymphocytes_absolute', 'neutrophils_absolute', 'hemoglobin', \n",
    "                                          'platelet_count', 'albumin', 'bicarbonate', 'creatinine', 'bilirubin_total', \n",
    "                                          'ferritin', 'lactate', 'ldh', 'procalcitonin', 'crp']\n",
    "                                          }\n",
    "    },\n",
    "    'vitals': {\n",
    "        'columns': ['hospitalization_id', 'recorded_dttm', 'vital_value', 'vital_category'],\n",
    "        'filters': {'vital_category': ['temp_c', 'weight_kg', 'heart_rate', 'sbp', 'spo2', 'respiratory_rate']}\n",
    "    },\n",
    "    'respiratory_support': {\n",
    "        'columns': ['hospitalization_id', 'recorded_dttm', 'device_category', 'mode_category', 'tracheostomy', 'peep_set', 'fio2_set', 'plateau_pressure_obs'],\n",
    "        'filters': {}\n",
    "    },\n",
    "    'medication_admin_continuous': {\n",
    "        'columns': ['hospitalization_id', 'admin_dttm', 'med_category', 'med_route_category', 'med_dose', 'med_dose_unit'],\n",
    "        'filters': {'med_category': ['norepinephrine']}\n",
    "    },\n",
    "    'patient_assessments': {\n",
    "        'columns': ['hospitalization_id', 'recorded_dttm', 'assessment_category', 'numerical_value'],\n",
    "        'filters': {'assessment_category': ['gcs_eye', 'gcs_motor', 'RASS']}\n",
    "    },\n",
    "    'crrt_therapy': {\n",
    "        'columns': ['hospitalization_id', 'recorded_dttm'],\n",
    "        'filters': {}\n",
    "    },\n",
    "    'ecmo_mcs': {\n",
    "        'columns': ['hospitalization_id', 'recorded_dttm'],\n",
    "        'filters': {}\n",
    "    }\n",
    "}"
   ]
  },
  {
   "cell_type": "code",
   "execution_count": null,
   "id": "3a0bfd93",
   "metadata": {},
   "outputs": [],
   "source": [
    "co.initialize(\n",
    "    tables=table_requirements.keys(),\n",
    "    columns={t: c['columns'] for t, c in table_requirements.items()},\n",
    "    filters={t: c['filters'] for t, c in table_requirements.items()}\n",
    ")"
   ]
  },
  {
   "cell_type": "markdown",
   "id": "1c1b8239",
   "metadata": {},
   "source": [
    "# 0. Data Pre-processing"
   ]
  },
  {
   "cell_type": "markdown",
   "id": "cec12d23",
   "metadata": {},
   "source": [
    "### 0.1 Unit conversion"
   ]
  },
  {
   "cell_type": "code",
   "execution_count": null,
   "id": "e4a1d61c",
   "metadata": {},
   "outputs": [],
   "source": [
    "preferred_units = {\n",
    "    \"norepinephrine\": \"mcg/kg/min\"\n",
    "}\n",
    "\n",
    "co.convert_dose_units_for_continuous_meds(preferred_units=preferred_units)\n",
    "\n",
    "\n",
    "# QC Check: Show unsuccessful conversion statistics\n",
    "df = co.medication_admin_continuous.df_converted\n",
    "total_rows = len(df)\n",
    "status_counts = df['_convert_status'].value_counts()\n",
    "unsuccessful_count = total_rows - status_counts.get('success', 0)\n",
    "unsuccessful_pct = (unsuccessful_count / total_rows * 100) if total_rows > 0 else 0\n",
    "\n",
    "print(\"=\" * 60)\n",
    "print(f\"Total records: {total_rows:,}\")\n",
    "print(f\"Unsuccessful conversions: {unsuccessful_count:,} ({unsuccessful_pct:.2f}%)\")\n",
    "print(f\"Successful conversions: {status_counts.get('success', 0):,} ({100 - unsuccessful_pct:.2f}%)\")\n",
    "print()\n",
    "\n",
    "if unsuccessful_count > 0:\n",
    "    print(\"Top 5 Failure Reasons:\")\n",
    "    print(\"-\" * 60)\n",
    "    # Filter out 'success' and get top 5 failures\n",
    "    top_failures = status_counts[status_counts.index != 'success'].head(5)\n",
    "    for i, (reason, count) in enumerate(top_failures.items(), 1):\n",
    "        pct_of_failures = (count / unsuccessful_count * 100)\n",
    "        pct_of_total = (count / total_rows * 100)\n",
    "        print(f\"{i}. {reason}\")\n",
    "        print(f\"   Count: {count:,} ({pct_of_failures:.1f}% of failures, {pct_of_total:.2f}% of total)\")\n",
    "        print()\n",
    "print(\"=\" * 60)\n",
    "\n",
    "# Filter to keep only successful conversions\n",
    "co.medication_admin_continuous.df_converted = df[df['_convert_status'] == 'success']"
   ]
  },
  {
   "cell_type": "markdown",
   "id": "b48cc5ef",
   "metadata": {},
   "source": [
    "# 0.2 Encounter Stitching"
   ]
  },
  {
   "cell_type": "code",
   "execution_count": null,
   "id": "7c0f3dd4",
   "metadata": {},
   "outputs": [],
   "source": [
    "# Access the encounter mapping\n",
    "encounter_mappings = co.get_encounter_mapping()\n",
    "print(f\"Created {encounter_mappings['encounter_block'].nunique()} encounter blocks\")"
   ]
  },
  {
   "cell_type": "markdown",
   "id": "6607c3b1",
   "metadata": {},
   "source": [
    "# 1. Cohort Identification Criteria:\n",
    "1. Age >= 18\n",
    "2. Paitnet admitted to hospital between 2018-01-01 and 2022-12-31\n",
    "3. Have mechanical ventilation > 48 hours during ICU stay "
   ]
  },
  {
   "cell_type": "code",
   "execution_count": null,
   "id": "79261046",
   "metadata": {},
   "outputs": [],
   "source": [
    "# ============================================================================\n",
    "# STEP 1: Filter hospitalizations directly (age >= 18 AND admission between 2018-2022)\n",
    "# ============================================================================\n",
    "combined_mask = (\n",
    "    (co.hospitalization.df['age_at_admission'] >= 18) &\n",
    "    (co.hospitalization.df['admission_dttm'] >= '2018-01-01') & \n",
    "    (co.hospitalization.df['admission_dttm'] < '2023-01-01')\n",
    ")\n",
    "filtered_hosp_ids = co.hospitalization.df[combined_mask]['hospitalization_id'].unique()\n",
    "\n",
    "# ============================================================================\n",
    "# STEP 2: Filter to ICU encounters\n",
    "# ============================================================================\n",
    "icu_mask = co.adt.df['location_category'].str.lower().str.contains('icu', na=False)\n",
    "icu_hosp_ids = co.adt.df[icu_mask]['hospitalization_id'].unique()\n",
    "\n",
    "# ============================================================================\n",
    "# STEP 3: Combine filters (Adult AND Date Range AND ICU)\n",
    "# ============================================================================\n",
    "final_hosp_ids = set(filtered_hosp_ids) & set(icu_hosp_ids)\n",
    "final_hosp_ids = sorted(list(final_hosp_ids))\n",
    "\n",
    "print(f\"{'='*80}\")\n",
    "print(f\"✅ FINAL ICU COHORT: {len(final_hosp_ids):,} hospitalizations\")\n",
    "print(f\"{'='*80}\\n\")\n",
    "\n",
    "# Filtering breakdown\n",
    "print(\"Filtering breakdown:\")\n",
    "print(f\"  Started with:                    {len(co.hospitalization.df):,}\")\n",
    "print(f\"  After adult + date filters:      {len(filtered_hosp_ids):,}\")\n",
    "print(f\"  After ICU filter:                {len(final_hosp_ids):,}\")"
   ]
  },
  {
   "cell_type": "markdown",
   "id": "04390f2c",
   "metadata": {},
   "source": [
    "Workflow to get vent > 48 hr\n",
    "1. Get cohort adt\n",
    "2. Link ICU stays with gaps of less than 6 hours\n",
    "3. Filter patients have > 48 hour of intubation"
   ]
  },
  {
   "cell_type": "code",
   "execution_count": null,
   "id": "b7150b55",
   "metadata": {},
   "outputs": [],
   "source": [
    "# Step 1: Filter icu cohort adt\n",
    "icu_adt = co.adt.df[co.adt.df['hospitalization_id'].isin(final_hosp_ids)].copy()\n",
    "\n",
    "# Step 2: Stitch icu stays\n",
    "icu_adt_stitched = stitch_icu_stays(icu_adt, gap_hours=6)\n",
    "\n",
    "# Step 3: Prepare respiratory support data\n",
    "icu_resp = co.respiratory_support.df[\n",
    "    co.respiratory_support.df['hospitalization_id'].isin(final_hosp_ids)\n",
    "].copy()\n",
    "icu_resp = icu_resp.merge(encounter_mappings, how='inner', on='hospitalization_id')\n",
    "\n",
    "# Step 3.1: Identify intubation timepoints (±1 hour time window)\n",
    "intub_times = find_intubation_times(icu_resp, time_window=1)\n",
    "\n",
    "# Step 3.2: Match intubations to ICU stays\n",
    "intub_icu_merged = intub_times.merge(\n",
    "    icu_adt_stitched[['encounter_block', 'in_dttm', 'out_dttm', 'icu_rank']],\n",
    "    on='encounter_block',\n",
    "    how='inner'\n",
    ")\n",
    "\n",
    "# Step 3.3: Keep only intubations that occurred during an ICU stay\n",
    "intub_during_icu = intub_icu_merged[\n",
    "    (intub_icu_merged['recorded_dttm'] >= intub_icu_merged['in_dttm']) &\n",
    "    (intub_icu_merged['recorded_dttm'] <= intub_icu_merged['out_dttm'])\n",
    "].copy()\n",
    "\n",
    "# Step 3.4: Calculate ventilation duration per ICU stay\n",
    "vent_duration = intub_during_icu.groupby(['encounter_block', 'icu_rank']).agg({\n",
    "    'recorded_dttm': ['min', 'max'],\n",
    "    'in_dttm': 'first',\n",
    "    'out_dttm': 'first'\n",
    "}).reset_index()\n",
    "\n",
    "vent_duration.columns = ['encounter_block', 'icu_rank', 'first_intub', 'last_intub', 'in_dttm', 'out_dttm']\n",
    "\n",
    "# Calculate ventilation duration in hours\n",
    "vent_duration['vent_duration_hours'] = (\n",
    "    vent_duration['last_intub'] - vent_duration['first_intub']\n",
    ").dt.total_seconds() / 3600\n",
    "\n",
    "# Step 3.5: Filter to ICU stays with at least 48 hours of ventilation\n",
    "prolonged_vent_icu = vent_duration[vent_duration['vent_duration_hours'] > 48].copy()\n",
    "\n",
    "# Step 3.6: Map encounter_block back to hospitalization_id\n",
    "prolonged_vent_icu = prolonged_vent_icu.merge(\n",
    "    encounter_mappings[['encounter_block', 'hospitalization_id']].drop_duplicates(),\n",
    "    on='encounter_block',\n",
    "    how='left'\n",
    ")\n",
    "\n",
    "# Step 3.7: Get unique hospitalization_ids with prolonged ventilation\n",
    "prolonged_vent_hosp_ids = prolonged_vent_icu['hospitalization_id'].unique()\n",
    "\n",
    "# Step 3.8: Combine with original cohort to create final cohort\n",
    "final_prolonged_vent_cohort = [hosp_id for hosp_id in final_hosp_ids if hosp_id in prolonged_vent_hosp_ids]\n",
    "\n",
    "print(f\"\\n✅ Original ICU cohort: {len(final_hosp_ids):,} hospitalizations\")\n",
    "print(f\"✅ With > 48 hours continuous ventilation: {len(final_prolonged_vent_cohort):,} hospitalizations\")\n",
    "print(f\"   Excluded (no prolonged ventilation): {len(final_hosp_ids) - len(final_prolonged_vent_cohort):,}\")\n",
    "print(f\"\\n   Total ICU stays with prolonged vent: {len(prolonged_vent_icu):,}\")\n",
    "print(f\"   Unique encounter_blocks: {prolonged_vent_icu['encounter_block'].nunique():,}\")\n",
    "print(f\"   Mean ventilation duration: {prolonged_vent_icu['vent_duration_hours'].mean():.1f} hours\")\n",
    "print(f\"   Median ventilation duration: {prolonged_vent_icu['vent_duration_hours'].median():.1f} hours\")"
   ]
  },
  {
   "cell_type": "markdown",
   "id": "3d8ffa0c",
   "metadata": {},
   "source": [
    "# Data Preparation Workflow:\n",
    "1. Aggregate daily average measurements and pivot to create one row per ICU-day\n",
    "2. VAP start dttm: \n",
    "3. ecmo_flag: any ecmo recorded dttm in a icu-day then mark as 1\n",
    "4. crrt_flag: any crrt recorded dttm in a icu-day then mark as 1"
   ]
  },
  {
   "cell_type": "code",
   "execution_count": null,
   "id": "cab7116f",
   "metadata": {},
   "outputs": [],
   "source": [
    "# Get cohort tables \n",
    "cohort_labs = co.labs.df[co.labs.df['hospitalization_id'].isin(final_prolonged_vent_cohort)].copy()\n",
    "cohort_vitals = co.vitals.df[co.vitals.df['hospitalization_id'].isin(final_prolonged_vent_cohort)].copy()\n",
    "cohort_resp = co.respiratory_support.df[co.respiratory_support.df['hospitalization_id'].isin(final_prolonged_vent_cohort)].copy()\n",
    "cohort_med_continuous = co.medication_admin_continuous.df[co.medication_admin_continuous.df['hospitalization_id'].isin(final_prolonged_vent_cohort)].copy()\n",
    "cohort_assessments = co.patient_assessments.df[co.patient_assessments.df['hospitalization_id'].isin(final_prolonged_vent_cohort)].copy()\n",
    "cohort_crrt = co.crrt_therapy.df[co.crrt_therapy.df['hospitalization_id'].isin(final_prolonged_vent_cohort)].copy()\n",
    "cohort_ecmo = co.ecmo_mcs.df[co.ecmo_mcs.df['hospitalization_id'].isin(final_prolonged_vent_cohort)].copy()\n",
    "cohort_hospitalization = co.hospitalization.df[co.hospitalization.df['hospitalization_id'].isin(final_prolonged_vent_cohort)].copy()"
   ]
  },
  {
   "cell_type": "code",
   "execution_count": null,
   "id": "18fd8f9e",
   "metadata": {},
   "outputs": [],
   "source": []
  }
 ],
 "metadata": {
  "kernelspec": {
   "display_name": ".vap-onset",
   "language": "python",
   "name": "python3"
  },
  "language_info": {
   "codemirror_mode": {
    "name": "ipython",
    "version": 3
   },
   "file_extension": ".py",
   "mimetype": "text/x-python",
   "name": "python",
   "nbconvert_exporter": "python",
   "pygments_lexer": "ipython3",
   "version": "3.12.2"
  }
 },
 "nbformat": 4,
 "nbformat_minor": 5
}
